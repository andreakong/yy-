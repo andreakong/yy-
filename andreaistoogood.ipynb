{
 "cells": [
  {
   "cell_type": "code",
   "execution_count": null,
   "metadata": {},
   "outputs": [],
   "source": [
    "print(\"jaz can u see this too\")"
   ]
  },
  {
   "cell_type": "code",
   "execution_count": 13,
   "metadata": {},
   "outputs": [
    {
     "name": "stdout",
     "output_type": "stream",
     "text": [
      "121hon\n"
     ]
    }
   ],
   "source": [
    "def mask_out(sentence, banned, substitutes):\n",
    "    return_str = \"\"\n",
    "    # loop through all letters in sentence\n",
    "    for i in range(len(sentence)):\n",
    "        # check if letter is banned\n",
    "        if sentence[i] in banned:\n",
    "            # get index of the letter\n",
    "            banned_index = banned.index(sentence[i])\n",
    "            # case 1: return the same index of substitutes\n",
    "            if (banned_index + 1 <= len(substitutes)):\n",
    "                return_str += substitutes[banned_index]\n",
    "            if (banned_index + 1 > len(substitutes)):\n",
    "                # case 2: return first letter of substitutes\n",
    "                return_str += substitutes[0]\n",
    "        else: \n",
    "            # letter not banned = add the letter back into return string\n",
    "            return_str += sentence[i]\n",
    "    return return_str\n",
    "\n",
    "print(mask_out(\"python\", \"pyt\", \"12\"))"
   ]
  }
 ],
 "metadata": {
  "interpreter": {
   "hash": "3dc440d4ba05b138704581cb3b3ba72235c4a3ed5734e5512e43911f9ec556ca"
  },
  "kernelspec": {
   "display_name": "Python 3.8.3 ('base')",
   "language": "python",
   "name": "python3"
  },
  "language_info": {
   "codemirror_mode": {
    "name": "ipython",
    "version": 3
   },
   "file_extension": ".py",
   "mimetype": "text/x-python",
   "name": "python",
   "nbconvert_exporter": "python",
   "pygments_lexer": "ipython3",
   "version": "3.8.3"
  },
  "orig_nbformat": 4
 },
 "nbformat": 4,
 "nbformat_minor": 2
}
