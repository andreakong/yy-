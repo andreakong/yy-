{
 "cells": [
  {
   "cell_type": "code",
   "execution_count": 2,
   "metadata": {},
   "outputs": [
    {
     "name": "stdout",
     "output_type": "stream",
     "text": [
      "hello yy can you see this hehe\n",
      "1\n"
     ]
    }
   ],
   "source": [
    "print(\"hello yy can you see this hehe\")\n",
    "\n",
    "print(len(['']))"
   ]
  }
 ],
 "metadata": {
  "interpreter": {
   "hash": "3dc440d4ba05b138704581cb3b3ba72235c4a3ed5734e5512e43911f9ec556ca"
  },
  "kernelspec": {
   "display_name": "Python 3.8.3 ('base')",
   "language": "python",
   "name": "python3"
  },
  "language_info": {
   "codemirror_mode": {
    "name": "ipython",
    "version": 3
   },
   "file_extension": ".py",
   "mimetype": "text/x-python",
   "name": "python",
   "nbconvert_exporter": "python",
   "pygments_lexer": "ipython3",
   "version": "3.8.3"
  },
  "orig_nbformat": 4
 },
 "nbformat": 4,
 "nbformat_minor": 2
}
